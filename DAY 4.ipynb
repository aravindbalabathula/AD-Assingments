{
 "cells": [
  {
   "cell_type": "markdown",
   "id": "65cb14e9-b4f0-444e-8ceb-d52ab067de20",
   "metadata": {},
   "source": [
    "# DAY - 4\n",
    "## Write a Python program to calculate the sum of all even numbers between 1 and a given positive integer n."
   ]
  },
  {
   "cell_type": "code",
   "execution_count": 3,
   "id": "a822698c-b2c0-4894-9f0e-c3c6269604c0",
   "metadata": {},
   "outputs": [
    {
     "name": "stdout",
     "output_type": "stream",
     "text": [
      "20\n",
      "272\n"
     ]
    }
   ],
   "source": [
    "\n",
    "def sum_even(n):\n",
    "    tot = 0\n",
    "    for i in range(n):\n",
    "        if i%2==0:\n",
    "            tot += i\n",
    "    return tot\n",
    "\n",
    "print(sum_even(10))\n",
    "print(sum_even(33))"
   ]
  },
  {
   "cell_type": "code",
   "execution_count": null,
   "id": "ab5cb3ee-c03e-402b-bc73-43505ec85bbf",
   "metadata": {},
   "outputs": [],
   "source": []
  }
 ],
 "metadata": {
  "kernelspec": {
   "display_name": "Python 3 (ipykernel)",
   "language": "python",
   "name": "python3"
  },
  "language_info": {
   "codemirror_mode": {
    "name": "ipython",
    "version": 3
   },
   "file_extension": ".py",
   "mimetype": "text/x-python",
   "name": "python",
   "nbconvert_exporter": "python",
   "pygments_lexer": "ipython3",
   "version": "3.11.9"
  }
 },
 "nbformat": 4,
 "nbformat_minor": 5
}
