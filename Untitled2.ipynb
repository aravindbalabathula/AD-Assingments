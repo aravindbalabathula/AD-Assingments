{
 "cells": [
  {
   "cell_type": "code",
   "execution_count": 1,
   "id": "64e8dc9e-32fb-4d19-b205-8b32de1020b3",
   "metadata": {},
   "outputs": [],
   "source": [
    "import nltk\n",
    "from nltk.tag import pos_tag\n",
    "from nltk.tokenize import word_tokenize\n",
    "from nltk.chunk import RegexpParser"
   ]
  },
  {
   "cell_type": "code",
   "execution_count": 2,
   "id": "77697485-110a-406e-8702-f5c3a059310e",
   "metadata": {},
   "outputs": [],
   "source": [
    "sent= \"the mother fucker is always the bitch\""
   ]
  },
  {
   "cell_type": "code",
   "execution_count": 3,
   "id": "6b2bbe61-4f43-4c77-b741-7ce5bf2786a6",
   "metadata": {},
   "outputs": [],
   "source": [
    "tokens = word_tokenize(sent)"
   ]
  },
  {
   "cell_type": "code",
   "execution_count": 4,
   "id": "d9aa5a75-4f90-429d-b7ca-6c5e69c3ce87",
   "metadata": {},
   "outputs": [],
   "source": [
    "tgged = pos_tag(tokens)"
   ]
  },
  {
   "cell_type": "code",
   "execution_count": 6,
   "id": "0d28752b-740a-47dc-85ce-851b957ff60b",
   "metadata": {},
   "outputs": [],
   "source": [
    "regg = r\"\"\"\n",
    "NP:{<DT|JJ|NN.*>+}\n",
    "VP:{<VB.*><NP|PP>*}\n",
    "\"\"\"\n",
    "            "
   ]
  },
  {
   "cell_type": "code",
   "execution_count": 7,
   "id": "c48ebeba-ad19-4c07-920e-2ba300896937",
   "metadata": {},
   "outputs": [],
   "source": [
    "parser = RegexpParser(regg)"
   ]
  },
  {
   "cell_type": "code",
   "execution_count": 8,
   "id": "cf061113-3316-46f8-8e24-870de007bd34",
   "metadata": {},
   "outputs": [],
   "source": [
    "f = parser.parse(tgged)"
   ]
  },
  {
   "cell_type": "code",
   "execution_count": 9,
   "id": "0956341c-fcbb-4a82-b7b4-90fd1d89089f",
   "metadata": {},
   "outputs": [
    {
     "name": "stdout",
     "output_type": "stream",
     "text": [
      "                               S                               \n",
      "     __________________________|____________________            \n",
      "    |                NP                VP           NP         \n",
      "    |        ________|_________        |       _____|_____      \n",
      "always/RB the/DT mother/NN fucker/NN is/VBZ the/DT     bitch/NN\n",
      "\n"
     ]
    }
   ],
   "source": [
    "f.pretty_print()"
   ]
  },
  {
   "cell_type": "code",
   "execution_count": null,
   "id": "fb28ffe8-9cf7-4735-ab45-efe2586088ef",
   "metadata": {},
   "outputs": [],
   "source": []
  },
  {
   "cell_type": "code",
   "execution_count": null,
   "id": "edd47eae-76b6-482c-b110-2b604caf08cb",
   "metadata": {},
   "outputs": [],
   "source": []
  },
  {
   "cell_type": "code",
   "execution_count": null,
   "id": "2f652eca-a260-4796-8857-706ba6cd40c8",
   "metadata": {},
   "outputs": [],
   "source": [
    " "
   ]
  },
  {
   "cell_type": "code",
   "execution_count": null,
   "id": "60ff116b-a42c-4eec-92e7-8dba25a9bc6f",
   "metadata": {},
   "outputs": [],
   "source": []
  },
  {
   "cell_type": "code",
   "execution_count": null,
   "id": "508edba3-ffa4-447f-8edb-9277c1dc5cee",
   "metadata": {},
   "outputs": [],
   "source": []
  },
  {
   "cell_type": "code",
   "execution_count": 10,
   "id": "94ef39ea-f041-4cdb-9579-b719d50ccf6e",
   "metadata": {},
   "outputs": [],
   "source": [
    "import nltk\n",
    "from nltk.stem.porter import PorterStemmer\n",
    "from nltk.stem.lancaster import LancasterStemmer"
   ]
  },
  {
   "cell_type": "code",
   "execution_count": 11,
   "id": "fcbb79c1-3a16-48bb-8bce-df709caa1d03",
   "metadata": {},
   "outputs": [],
   "source": [
    "lc = LancasterStemmer()\n",
    "\n",
    "words = [ \"playing\"  , \"danced\"]\n"
   ]
  },
  {
   "cell_type": "code",
   "execution_count": 12,
   "id": "77b72763-d784-475e-a65b-6ede7bed7004",
   "metadata": {},
   "outputs": [],
   "source": [
    "stemed = []\n",
    "for i in words:\n",
    "    a = lc.stem(i)\n",
    "    stemed.append(a)"
   ]
  },
  {
   "cell_type": "code",
   "execution_count": 13,
   "id": "d834a345-7c1d-4394-ac64-fc3e6f5d5e7e",
   "metadata": {},
   "outputs": [
    {
     "name": "stdout",
     "output_type": "stream",
     "text": [
      "playing play\n",
      "danced dant\n"
     ]
    }
   ],
   "source": [
    "for i,j in zip(words,stemed):\n",
    "    print(i,j)"
   ]
  },
  {
   "cell_type": "code",
   "execution_count": null,
   "id": "375acf73-181a-4617-87c3-58eba4e89afb",
   "metadata": {},
   "outputs": [],
   "source": []
  },
  {
   "cell_type": "code",
   "execution_count": null,
   "id": "18bf331e-cf70-4fc4-baaf-c05f11503f3e",
   "metadata": {},
   "outputs": [],
   "source": []
  },
  {
   "cell_type": "code",
   "execution_count": 14,
   "id": "4f29a2b2-bd91-41a7-ab61-ca030a4ff1c6",
   "metadata": {},
   "outputs": [],
   "source": [
    "import nltk\n",
    "from nltk.stem.wordnet import WordNetLemmatizer\n",
    "from nltk.stem.porter import PorterStemmer"
   ]
  },
  {
   "cell_type": "code",
   "execution_count": 15,
   "id": "6ac456b8-49ed-45a1-adab-602e43ec3028",
   "metadata": {},
   "outputs": [],
   "source": [
    "wc = WordNetLemmatizer()"
   ]
  },
  {
   "cell_type": "code",
   "execution_count": 17,
   "id": "49a1c041-6e5f-41ae-9d3e-368e56a3c84c",
   "metadata": {},
   "outputs": [],
   "source": [
    "stemed = []\n",
    "for i in words:\n",
    "    a = wc.lemmatize(i)\n",
    "    stemed.append(a)"
   ]
  },
  {
   "cell_type": "code",
   "execution_count": 18,
   "id": "30c61463-593c-4708-a13c-078674b56b96",
   "metadata": {},
   "outputs": [
    {
     "name": "stdout",
     "output_type": "stream",
     "text": [
      "playing playing\n",
      "danced danced\n"
     ]
    }
   ],
   "source": [
    "for i,j in zip(words,stemed):\n",
    "    print(i,j)"
   ]
  },
  {
   "cell_type": "code",
   "execution_count": null,
   "id": "25aa98fb-089c-4baa-952a-b748139f3565",
   "metadata": {},
   "outputs": [],
   "source": []
  },
  {
   "cell_type": "code",
   "execution_count": null,
   "id": "7df2e08a-6824-4170-9d97-975eebde7f90",
   "metadata": {},
   "outputs": [],
   "source": []
  },
  {
   "cell_type": "code",
   "execution_count": 19,
   "id": "204550aa-5f05-4593-8960-8514daa1b506",
   "metadata": {},
   "outputs": [
    {
     "name": "stdout",
     "output_type": "stream",
     "text": [
      "a\n"
     ]
    }
   ],
   "source": [
    "from collections import defaultdict  \n",
    "import numpy as np  \n",
    "\n",
    "class NgramModel:  \n",
    "    def __init__(self, n, k=1):  \n",
    "        self.n = n  \n",
    "        self.k = k  \n",
    "        self.ngram_counts = defaultdict(int)  \n",
    "        self.context_counts = defaultdict(int)  \n",
    "\n",
    "    def train(self, corpus):  \n",
    "        for sentence in corpus:  \n",
    "            words = sentence.split()  \n",
    "            for i in range(len(words) - self.n + 1):  \n",
    "                ngram = tuple(words[i:i + self.n - 1])  \n",
    "                next_word = words[i + self.n - 1]  \n",
    "                self.ngram_counts[(ngram, next_word)] += 1  \n",
    "                self.context_counts[ngram] += 1  \n",
    "\n",
    "    def probability(self, ngram, next_word):  \n",
    "        context = ngram[:-1]  \n",
    "        context_count = self.context_counts[context]  \n",
    "        ngram_count = self.ngram_counts[(ngram, next_word)]  \n",
    "        unique_words = len(set(word for ngram_, word in self.ngram_counts.keys()))  # Unique words in vocabulary  \n",
    "        \n",
    "        return (ngram_count + self.k) / (context_count + self.k * unique_words)  \n",
    "\n",
    "    def generate_next_word(self, ngram):  \n",
    "        possible_next_words = [word for ngram_, word in self.ngram_counts.keys() if ngram_ == ngram]  \n",
    "        probabilities = [self.probability(ngram, word) for word in possible_next_words]  \n",
    "        \n",
    "        return np.random.choice(possible_next_words, p=probabilities)  \n",
    "\n",
    "# Example usage  \n",
    "corpus = [\"this is a cat\", \"this is a dog\", \"this is a cat\"]  \n",
    "ngram_model = NgramModel(n=2, k=1)  \n",
    "ngram_model.train(corpus)  \n",
    "\n",
    "ngram = (\"is\",)  \n",
    "next_word = ngram_model.generate_next_word(ngram)  \n",
    "print(next_word)"
   ]
  },
  {
   "cell_type": "code",
   "execution_count": null,
   "id": "78f6e1a7-b8f2-49c0-9b48-ea71a699e179",
   "metadata": {},
   "outputs": [],
   "source": []
  },
  {
   "cell_type": "code",
   "execution_count": null,
   "id": "8a94d80b-7690-4527-ad7e-edc47c4aa21f",
   "metadata": {},
   "outputs": [],
   "source": []
  },
  {
   "cell_type": "code",
   "execution_count": null,
   "id": "1f046a1b-68fc-4eda-9ef7-08334e92d5f0",
   "metadata": {},
   "outputs": [],
   "source": []
  },
  {
   "cell_type": "code",
   "execution_count": null,
   "id": "cd084d62-d19a-4c59-b43b-1fa460de8066",
   "metadata": {},
   "outputs": [],
   "source": []
  }
 ],
 "metadata": {
  "kernelspec": {
   "display_name": "Python 3 (ipykernel)",
   "language": "python",
   "name": "python3"
  },
  "language_info": {
   "codemirror_mode": {
    "name": "ipython",
    "version": 3
   },
   "file_extension": ".py",
   "mimetype": "text/x-python",
   "name": "python",
   "nbconvert_exporter": "python",
   "pygments_lexer": "ipython3",
   "version": "3.11.9"
  }
 },
 "nbformat": 4,
 "nbformat_minor": 5
}
